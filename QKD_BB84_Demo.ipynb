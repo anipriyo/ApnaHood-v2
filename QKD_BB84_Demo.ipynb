{
  "nbformat": 4,
  "nbformat_minor": 0,
  "metadata": {
    "colab": {
      "provenance": [],
      "authorship_tag": "ABX9TyPi+g04w31Vpct1uxMnwZo5",
      "include_colab_link": true
    },
    "kernelspec": {
      "name": "python3",
      "display_name": "Python 3"
    },
    "language_info": {
      "name": "python"
    }
  },
  "cells": [
    {
      "cell_type": "markdown",
      "metadata": {
        "id": "view-in-github",
        "colab_type": "text"
      },
      "source": [
        "<a href=\"https://colab.research.google.com/github/anipriyo/ApnaHood-v2/blob/main/QKD_BB84_Demo.ipynb\" target=\"_parent\"><img src=\"https://colab.research.google.com/assets/colab-badge.svg\" alt=\"Open In Colab\"/></a>"
      ]
    },
    {
      "cell_type": "code",
      "execution_count": 75,
      "metadata": {
        "colab": {
          "base_uri": "https://localhost:8080/"
        },
        "id": "Y0Q4y-YbsaPM",
        "outputId": "258c974f-555c-4b5f-ed31-80e25819f0ee"
      },
      "outputs": [
        {
          "output_type": "stream",
          "name": "stdout",
          "text": [
            "Requirement already satisfied: qiskit in /usr/local/lib/python3.11/dist-packages (2.0.0)\n",
            "Requirement already satisfied: rustworkx>=0.15.0 in /usr/local/lib/python3.11/dist-packages (from qiskit) (0.16.0)\n",
            "Requirement already satisfied: numpy<3,>=1.17 in /usr/local/lib/python3.11/dist-packages (from qiskit) (2.0.2)\n",
            "Requirement already satisfied: scipy>=1.5 in /usr/local/lib/python3.11/dist-packages (from qiskit) (1.15.2)\n",
            "Requirement already satisfied: sympy>=1.3 in /usr/local/lib/python3.11/dist-packages (from qiskit) (1.13.1)\n",
            "Requirement already satisfied: dill>=0.3 in /usr/local/lib/python3.11/dist-packages (from qiskit) (0.3.7)\n",
            "Requirement already satisfied: python-dateutil>=2.8.0 in /usr/local/lib/python3.11/dist-packages (from qiskit) (2.9.0.post0)\n",
            "Requirement already satisfied: stevedore>=3.0.0 in /usr/local/lib/python3.11/dist-packages (from qiskit) (5.4.1)\n",
            "Requirement already satisfied: typing-extensions in /usr/local/lib/python3.11/dist-packages (from qiskit) (4.13.2)\n",
            "Requirement already satisfied: symengine<0.14,>=0.11 in /usr/local/lib/python3.11/dist-packages (from qiskit) (0.13.0)\n",
            "Requirement already satisfied: six>=1.5 in /usr/local/lib/python3.11/dist-packages (from python-dateutil>=2.8.0->qiskit) (1.17.0)\n",
            "Requirement already satisfied: pbr>=2.0.0 in /usr/local/lib/python3.11/dist-packages (from stevedore>=3.0.0->qiskit) (6.1.1)\n",
            "Requirement already satisfied: mpmath<1.4,>=1.1.0 in /usr/local/lib/python3.11/dist-packages (from sympy>=1.3->qiskit) (1.3.0)\n",
            "Requirement already satisfied: setuptools in /usr/local/lib/python3.11/dist-packages (from pbr>=2.0.0->stevedore>=3.0.0->qiskit) (75.2.0)\n",
            "Requirement already satisfied: qiskit_aer in /usr/local/lib/python3.11/dist-packages (0.17.0)\n",
            "Requirement already satisfied: qiskit>=1.1.0 in /usr/local/lib/python3.11/dist-packages (from qiskit_aer) (2.0.0)\n",
            "Requirement already satisfied: numpy>=1.16.3 in /usr/local/lib/python3.11/dist-packages (from qiskit_aer) (2.0.2)\n",
            "Requirement already satisfied: scipy>=1.0 in /usr/local/lib/python3.11/dist-packages (from qiskit_aer) (1.15.2)\n",
            "Requirement already satisfied: psutil>=5 in /usr/local/lib/python3.11/dist-packages (from qiskit_aer) (5.9.5)\n",
            "Requirement already satisfied: rustworkx>=0.15.0 in /usr/local/lib/python3.11/dist-packages (from qiskit>=1.1.0->qiskit_aer) (0.16.0)\n",
            "Requirement already satisfied: sympy>=1.3 in /usr/local/lib/python3.11/dist-packages (from qiskit>=1.1.0->qiskit_aer) (1.13.1)\n",
            "Requirement already satisfied: dill>=0.3 in /usr/local/lib/python3.11/dist-packages (from qiskit>=1.1.0->qiskit_aer) (0.3.7)\n",
            "Requirement already satisfied: python-dateutil>=2.8.0 in /usr/local/lib/python3.11/dist-packages (from qiskit>=1.1.0->qiskit_aer) (2.9.0.post0)\n",
            "Requirement already satisfied: stevedore>=3.0.0 in /usr/local/lib/python3.11/dist-packages (from qiskit>=1.1.0->qiskit_aer) (5.4.1)\n",
            "Requirement already satisfied: typing-extensions in /usr/local/lib/python3.11/dist-packages (from qiskit>=1.1.0->qiskit_aer) (4.13.2)\n",
            "Requirement already satisfied: symengine<0.14,>=0.11 in /usr/local/lib/python3.11/dist-packages (from qiskit>=1.1.0->qiskit_aer) (0.13.0)\n",
            "Requirement already satisfied: six>=1.5 in /usr/local/lib/python3.11/dist-packages (from python-dateutil>=2.8.0->qiskit>=1.1.0->qiskit_aer) (1.17.0)\n",
            "Requirement already satisfied: pbr>=2.0.0 in /usr/local/lib/python3.11/dist-packages (from stevedore>=3.0.0->qiskit>=1.1.0->qiskit_aer) (6.1.1)\n",
            "Requirement already satisfied: mpmath<1.4,>=1.1.0 in /usr/local/lib/python3.11/dist-packages (from sympy>=1.3->qiskit>=1.1.0->qiskit_aer) (1.3.0)\n",
            "Requirement already satisfied: setuptools in /usr/local/lib/python3.11/dist-packages (from pbr>=2.0.0->stevedore>=3.0.0->qiskit>=1.1.0->qiskit_aer) (75.2.0)\n",
            "Requirement already satisfied: pylatexenc in /usr/local/lib/python3.11/dist-packages (2.10)\n"
          ]
        }
      ],
      "source": [
        "!pip install qiskit\n",
        "!pip install qiskit_aer\n",
        "!pip install pylatexenc"
      ]
    },
    {
      "cell_type": "code",
      "source": [
        "import numpy as np\n",
        "from qiskit import QuantumCircuit\n",
        "from qiskit.quantum_info import Statevector\n",
        "from qiskit.visualization import plot_histogram\n",
        "import matplotlib.pyplot as plt\n",
        "from qiskit_aer import Aer, AerSimulator"
      ],
      "metadata": {
        "id": "VbzhCvUl0g6y"
      },
      "execution_count": 76,
      "outputs": []
    },
    {
      "cell_type": "code",
      "source": [
        "\n",
        "n=100;\n",
        "\n",
        "\n",
        "def encode(bits,basis):\n",
        "  publickey=[]\n",
        "  for i in range(n):\n",
        "    qc=QuantumCircuit(1,1)\n",
        "    if basis[i]==0: # z basis encoding 0=0 and 1=1\n",
        "      if bits[i]==0:\n",
        "        pass\n",
        "      else:\n",
        "        qc.x(0)\n",
        "    else: # x basis encoding 0= |+> and 1= |->\n",
        "      if bits[i]==0:\n",
        "        qc.h(0)\n",
        "      else:\n",
        "        qc.x(0)\n",
        "        qc.h(0)\n",
        "    qc.barrier()\n",
        "    publickey.append(qc)\n",
        "  return publickey\n",
        "\n",
        "def decode(msg,basis):\n",
        "  measurements=[]\n",
        "  for q in range(n):\n",
        "    if basis[q]==0:\n",
        "      msg[q].measure(0,0)\n",
        "    if basis[q]==1:\n",
        "      msg[q].h(0)\n",
        "      msg[q].measure(0,0)\n",
        "    counts=run_circuit(msg[q],shots=1)\n",
        "    measured_bit=next(iter(counts))\n",
        "    measurements.append(int(measured_bit))\n",
        "  return measurements\n",
        "\n",
        "def remove_garbage(a_basis, b_basis, bits):\n",
        "    good_bits = []\n",
        "    for q in range(n):\n",
        "        if a_basis[q] == b_basis[q]:\n",
        "            # if a==b then keep bits else reject\n",
        "            good_bits.append(bits[q])\n",
        "    return good_bits\n",
        "\n",
        "def error_induced(bit_list):\n",
        "    flipped_list = []\n",
        "    for bit in bit_list:\n",
        "        flip_prob = random.uniform(0.25, 0.5)  # Random flip rate between 25% and 50%\n",
        "        if random.random() < flip_prob:\n",
        "            flipped_bit = 1 - bit  # Flip 0 to 1 or 1 to 0\n",
        "        else:\n",
        "            flipped_bit = bit\n",
        "        flipped_list.append(flipped_bit)\n",
        "    return flipped_list\n",
        "\n",
        "\n",
        "def run_circuit(circuit, shots=1):\n",
        "    \"\"\"Run a circuit on a simulator and return the counts.\"\"\"\n",
        "    simulator = AerSimulator()\n",
        "\n",
        "    from qiskit import transpile\n",
        "    transpiled_circuit = transpile(circuit, simulator)\n",
        "    result = simulator.run(transpiled_circuit, shots=shots).result()\n",
        "    counts = result.get_counts()\n",
        "\n",
        "    return counts"
      ],
      "metadata": {
        "id": "LTnSAMj91LaZ"
      },
      "execution_count": 77,
      "outputs": []
    },
    {
      "cell_type": "code",
      "source": [
        "sharedkey=np.random.randint(2,size=n) # <2 that means 0 and 1 only\n",
        "print(sharedkey)"
      ],
      "metadata": {
        "colab": {
          "base_uri": "https://localhost:8080/"
        },
        "id": "oPLjrrEeWAEi",
        "outputId": "5c8ab1d9-c797-451b-8ce3-85ca3c544a97"
      },
      "execution_count": 78,
      "outputs": [
        {
          "output_type": "stream",
          "name": "stdout",
          "text": [
            "[1 0 0 1 0 1 0 1 1 1 1 1 1 1 0 0 0 1 0 0 0 0 1 1 0 1 1 1 1 1 0 1 0 1 0 0 1\n",
            " 0 1 0 0 1 0 1 0 1 0 0 1 1 0 1 0 0 0 1 1 1 0 0 0 1 0 1 1 1 1 1 0 0 0 0 1 1\n",
            " 1 0 0 1 0 0 0 1 0 1 0 1 0 0 1 1 1 0 1 0 1 0 0 0 1 0]\n"
          ]
        }
      ]
    },
    {
      "cell_type": "code",
      "source": [
        "sender_basis = np.random.randint(2, size=n)\n",
        "print(sender_basis) # 0 for z basis and 1 for x basis"
      ],
      "metadata": {
        "colab": {
          "base_uri": "https://localhost:8080/"
        },
        "id": "LYxSg-hj7vV7",
        "outputId": "15ab1437-b054-4d4b-8d3b-bb23644b80d6"
      },
      "execution_count": 79,
      "outputs": [
        {
          "output_type": "stream",
          "name": "stdout",
          "text": [
            "[1 0 0 0 0 1 0 0 1 0 1 1 0 0 1 1 1 1 1 1 1 1 0 1 0 0 1 1 0 0 1 1 1 1 0 0 0\n",
            " 0 0 0 0 1 1 1 1 0 0 1 0 0 0 0 1 1 1 1 0 1 0 1 0 1 0 0 0 0 0 0 0 0 0 1 1 1\n",
            " 1 1 0 1 1 0 1 1 0 1 1 0 0 0 0 1 1 1 0 1 0 1 0 1 1 0]\n"
          ]
        }
      ]
    },
    {
      "cell_type": "code",
      "source": [
        "publickey=encode(sharedkey,sender_basis)\n",
        "# display(publickey[0])\n",
        "publickey[0].draw()"
      ],
      "metadata": {
        "colab": {
          "base_uri": "https://localhost:8080/",
          "height": 94
        },
        "id": "-r49dH8p9d8z",
        "outputId": "edd6b1a8-328b-464a-e628-8fd3382a55ae"
      },
      "execution_count": 80,
      "outputs": [
        {
          "output_type": "execute_result",
          "data": {
            "text/plain": [
              "     ┌───┐┌───┐ ░ \n",
              "  q: ┤ X ├┤ H ├─░─\n",
              "     └───┘└───┘ ░ \n",
              "c: 1/═════════════\n",
              "                  "
            ],
            "text/html": [
              "<pre style=\"word-wrap: normal;white-space: pre;background: #fff0;line-height: 1.1;font-family: &quot;Courier New&quot;,Courier,monospace\">     ┌───┐┌───┐ ░ \n",
              "  q: ┤ X ├┤ H ├─░─\n",
              "     └───┘└───┘ ░ \n",
              "c: 1/═════════════\n",
              "                  </pre>"
            ]
          },
          "metadata": {},
          "execution_count": 80
        }
      ]
    },
    {
      "cell_type": "markdown",
      "source": [
        "Reciever"
      ],
      "metadata": {
        "id": "SV8mJXd9OARr"
      }
    },
    {
      "cell_type": "code",
      "source": [
        "\n",
        "recieved_publickey=error_induced(publickey) # interception by eve creates error\n",
        "\n",
        "\n",
        "reciever_basis_guess = np.random.randint(2, size=n)\n",
        "\n",
        "decodedkey=decode(publickey,reciever_basis_guess)\n",
        "print(decodedkey)"
      ],
      "metadata": {
        "colab": {
          "base_uri": "https://localhost:8080/",
          "height": 332
        },
        "id": "Cu3x34y5_mLG",
        "outputId": "d919f0ce-0dd9-43e8-886e-22f54087314c"
      },
      "execution_count": 81,
      "outputs": [
        {
          "output_type": "error",
          "ename": "NameError",
          "evalue": "name 'random' is not defined",
          "traceback": [
            "\u001b[0;31m---------------------------------------------------------------------------\u001b[0m",
            "\u001b[0;31mNameError\u001b[0m                                 Traceback (most recent call last)",
            "\u001b[0;32m<ipython-input-81-9ed251f5d176>\u001b[0m in \u001b[0;36m<cell line: 0>\u001b[0;34m()\u001b[0m\n\u001b[0;32m----> 1\u001b[0;31m \u001b[0mrecieved_publickey\u001b[0m\u001b[0;34m=\u001b[0m\u001b[0merror_induced\u001b[0m\u001b[0;34m(\u001b[0m\u001b[0mpublickey\u001b[0m\u001b[0;34m)\u001b[0m \u001b[0;31m# interception by eve creates error\u001b[0m\u001b[0;34m\u001b[0m\u001b[0;34m\u001b[0m\u001b[0m\n\u001b[0m\u001b[1;32m      2\u001b[0m \u001b[0;34m\u001b[0m\u001b[0m\n\u001b[1;32m      3\u001b[0m \u001b[0;34m\u001b[0m\u001b[0m\n\u001b[1;32m      4\u001b[0m \u001b[0mreciever_basis_guess\u001b[0m \u001b[0;34m=\u001b[0m \u001b[0mnp\u001b[0m\u001b[0;34m.\u001b[0m\u001b[0mrandom\u001b[0m\u001b[0;34m.\u001b[0m\u001b[0mrandint\u001b[0m\u001b[0;34m(\u001b[0m\u001b[0;36m2\u001b[0m\u001b[0;34m,\u001b[0m \u001b[0msize\u001b[0m\u001b[0;34m=\u001b[0m\u001b[0mn\u001b[0m\u001b[0;34m)\u001b[0m\u001b[0;34m\u001b[0m\u001b[0;34m\u001b[0m\u001b[0m\n\u001b[1;32m      5\u001b[0m \u001b[0;34m\u001b[0m\u001b[0m\n",
            "\u001b[0;32m<ipython-input-77-da4a46b0b794>\u001b[0m in \u001b[0;36merror_induced\u001b[0;34m(bit_list)\u001b[0m\n\u001b[1;32m     45\u001b[0m     \u001b[0mflipped_list\u001b[0m \u001b[0;34m=\u001b[0m \u001b[0;34m[\u001b[0m\u001b[0;34m]\u001b[0m\u001b[0;34m\u001b[0m\u001b[0;34m\u001b[0m\u001b[0m\n\u001b[1;32m     46\u001b[0m     \u001b[0;32mfor\u001b[0m \u001b[0mbit\u001b[0m \u001b[0;32min\u001b[0m \u001b[0mbit_list\u001b[0m\u001b[0;34m:\u001b[0m\u001b[0;34m\u001b[0m\u001b[0;34m\u001b[0m\u001b[0m\n\u001b[0;32m---> 47\u001b[0;31m         \u001b[0mflip_prob\u001b[0m \u001b[0;34m=\u001b[0m \u001b[0mrandom\u001b[0m\u001b[0;34m.\u001b[0m\u001b[0muniform\u001b[0m\u001b[0;34m(\u001b[0m\u001b[0;36m0.25\u001b[0m\u001b[0;34m,\u001b[0m \u001b[0;36m0.5\u001b[0m\u001b[0;34m)\u001b[0m  \u001b[0;31m# Random flip rate between 25% and 50%\u001b[0m\u001b[0;34m\u001b[0m\u001b[0;34m\u001b[0m\u001b[0m\n\u001b[0m\u001b[1;32m     48\u001b[0m         \u001b[0;32mif\u001b[0m \u001b[0mrandom\u001b[0m\u001b[0;34m.\u001b[0m\u001b[0mrandom\u001b[0m\u001b[0;34m(\u001b[0m\u001b[0;34m)\u001b[0m \u001b[0;34m<\u001b[0m \u001b[0mflip_prob\u001b[0m\u001b[0;34m:\u001b[0m\u001b[0;34m\u001b[0m\u001b[0;34m\u001b[0m\u001b[0m\n\u001b[1;32m     49\u001b[0m             \u001b[0mflipped_bit\u001b[0m \u001b[0;34m=\u001b[0m \u001b[0;36m1\u001b[0m \u001b[0;34m-\u001b[0m \u001b[0mbit\u001b[0m  \u001b[0;31m# Flip 0 to 1 or 1 to 0\u001b[0m\u001b[0;34m\u001b[0m\u001b[0;34m\u001b[0m\u001b[0m\n",
            "\u001b[0;31mNameError\u001b[0m: name 'random' is not defined"
          ]
        }
      ]
    },
    {
      "cell_type": "code",
      "source": [
        "\n",
        "reciever_key = remove_garbage(sender_basis, reciever_basis_guess, decodedkey)\n",
        "print(reciever_key)\n",
        "sender_key = remove_garbage(sender_basis, reciever_basis_guess, sharedkey)\n",
        "int_list = [int(x) for x in sender_key]\n",
        "print(int_list)\n"
      ],
      "metadata": {
        "id": "lkliGIHHMJYL"
      },
      "execution_count": null,
      "outputs": []
    },
    {
      "cell_type": "code",
      "source": [
        "print(\"Keys match:\", reciever_key == int_list)\n",
        "\n",
        "\n",
        "match_percentage = len(reciever_key) / n * 100\n",
        "print(f\"Percentage of matching bases: {match_percentage:.2f}%\")\n",
        "\n",
        "# eavesdropping detection\n",
        "def detect_eavesdropping(alice_bits, bob_bits, sample_size=None):\n",
        "    if sample_size is None:\n",
        "        sample_size = min(20, len(bob_bits)//4)\n",
        "    check_positions = np.random.choice(range(len(bob_bits)), sample_size, replace=False)\n",
        "\n",
        "    alice_sample = [alice_bits[i] for i in check_positions]\n",
        "    bob_sample = [bob_bits[i] for i in check_positions]\n",
        "\n",
        "\n",
        "    errors = sum(a != b for a, b in zip(alice_sample, bob_sample))\n",
        "    error_rate = errors / sample_size\n",
        "\n",
        "\n",
        "    remaining_positions = [i for i in range(len(bob_bits)) if i not in check_positions]\n",
        "    alice_final = [alice_bits[i] for i in remaining_positions]\n",
        "    bob_final = [bob_bits[i] for i in remaining_positions]\n",
        "\n",
        "    return error_rate, alice_final, bob_final\n",
        "\n",
        "error_rate, alice_final, bob_final = detect_eavesdropping(int_list, reciever_key)\n",
        "print(f\"Detected error rate: {error_rate:.2f}\")\n",
        "print(f\"Final key length: {len(alice_final)}\")"
      ],
      "metadata": {
        "id": "rtQs5UM3P9-H"
      },
      "execution_count": null,
      "outputs": []
    }
  ]
}